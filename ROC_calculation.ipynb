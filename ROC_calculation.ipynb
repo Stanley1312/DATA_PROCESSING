{
 "cells": [
  {
   "cell_type": "markdown",
   "id": "2a7536f2",
   "metadata": {},
   "source": [
    "## ROC Curve On Binary Classification"
   ]
  },
  {
   "cell_type": "markdown",
   "id": "155145ab",
   "metadata": {},
   "source": [
    "### 1.Implementation"
   ]
  },
  {
   "cell_type": "code",
   "execution_count": 1,
   "id": "27d5a6fb",
   "metadata": {},
   "outputs": [],
   "source": [
    "import numpy as np\n",
    "from sklearn.metrics import auc\n",
    "from sklearn.metrics import accuracy_score, f1_score\n",
    "import matplotlib.pyplot as plt"
   ]
  },
  {
   "cell_type": "code",
   "execution_count": 2,
   "id": "63a900f1",
   "metadata": {},
   "outputs": [],
   "source": [
    "# calculate roc curve\n",
    "def calculate_roc_curve(Y_gt,  Y_score, pos_label, thresh_range):\n",
    "    \"\"\"\n",
    "    Args:\n",
    "        Y_gt, list: contains all grouth-truth values\n",
    "        Y_score, list: contains all predicted values\n",
    "        predictor, object: predictor to predict estimated value\n",
    "        pos_label, int: positive label \n",
    "        thresh_range: threshold range to estimate ROC curve\n",
    "    \"\"\"\n",
    "    tprs = []\n",
    "    fpss = []\n",
    "    negative_label = 0\n",
    "    if pos_label == 0:\n",
    "        negative_label = 1\n",
    "    for thresh in thresh_range:\n",
    "#         Y_pr = predictor.predict(X, thresh)*1\n",
    "        Y_pr = np.array([(x > thresh) * 1 for x in Y_score])\n",
    "        TP = np.sum((Y_gt[np.where((Y_gt == Y_pr))] == pos_label)*1)\n",
    "        FP = np.sum((Y_pr[np.where((Y_gt != Y_pr))] == pos_label)*1)\n",
    "        TN = np.sum((Y_gt[np.where((Y_gt == Y_pr))] == negative_label)*1)\n",
    "        FN = np.sum((Y_pr[np.where((Y_gt != Y_pr))] == negative_label)*1)\n",
    "        \n",
    "        tpr = TP / (TP + FN) if (TP + FN) > 0 else 0\n",
    "        fpr = FP / (FP + TN) if (FP + FN) > 0 else 0\n",
    "    \n",
    "        tprs.append(tpr)\n",
    "        fpss.append(fpr)\n",
    "    \n",
    "    roc_auc = auc(fpss, tprs)\n",
    "        \n",
    "    return tprs, fpss, roc_auc"
   ]
  },
  {
   "cell_type": "markdown",
   "id": "adbfc6eb",
   "metadata": {},
   "source": [
    "### 2.Calculation and Visualization ROC Curve"
   ]
  },
  {
   "cell_type": "code",
   "execution_count": 3,
   "id": "f4a4cfe5",
   "metadata": {},
   "outputs": [],
   "source": [
    "# Fake data\n",
    "ground_truth = np.concatenate((np.zeros(40), np.ones(40)))\n",
    "ground_truth.shape\n",
    "prediction = [0.6290588, 0.8490912, 0.6983919, 0.79054403, 0.6025884, 0.8076991, 0.6584846, 2.1959941, 0.6338208, 0.7845179, 2.3805697, 0.7854228, 0.59856606, 0.5896387, 0.6862094, 0.64240676, 0.77792734, 0.8836477, 1.4023622, 0.64413047, 0.6903986, 0.74162376, 0.7497444, 0.743689, 0.7204919, 1.0584579, 0.8856341, 0.8881404, 1.1582506, 0.60460985, 0.65499586, 0.6610615, 0.62392896, 0.62539184, 0.9552798, 0.5398036, 0.75790083, 0.8301346, 0.92223495, 1.5610106, 3.3034, 3.346456, 3.85864, 2.309309, 3.329964, 1.3942356, 3.7773, 2.1770694, 3.79294, 1.344507, 3.461, 3.1072044, 2.0040565, 71.8446, 6.1007843, 1.4495988, 3.5176, 3.273527, 3.433, 3.31328, 2.2577758, 3.74213, 1.7506913, 3.4011, 3.838005, 3.11, 1.7800198, 3.0901973, 3.2716215, 3.710287, 3.97, 1.624124, 2.3545966, 1.6721141, 1.4456981, 1.6071165, 3.867, 1.122522, 3.6929338, 2.8044868]"
   ]
  },
  {
   "cell_type": "code",
   "execution_count": 4,
   "id": "cc73d2d9",
   "metadata": {},
   "outputs": [],
   "source": [
    "# Calclation\n",
    "tprs_dl, fprs_dl, roc_auc_dl = calculate_roc_curve(ground_truth, prediction, pos_label=1, \n",
    "                                         thresh_range=np.linspace(0, 10, 1000))"
   ]
  },
  {
   "cell_type": "code",
   "execution_count": 5,
   "id": "c47a3e55",
   "metadata": {},
   "outputs": [
    {
     "data": {
      "image/png": "[encoded data removed]",
      "text/plain": [
       "<Figure size 432x288 with 1 Axes>"
      ]
     },
     "metadata": {
      "needs_background": "light"
     },
     "output_type": "display_data"
    }
   ],
   "source": [
    "dif = plt.figure()\n",
    "lw = 2\n",
    "plt.plot(fprs_dl, tprs_dl, color='darkorange',\n",
    "         lw=lw, label='ROC curve (area = %0.2f)' % roc_auc_dl)\n",
    "plt.plot([0, 1], [0, 1], color='navy', lw=lw, linestyle='--')\n",
    "plt.xlabel('False Positive Rate')\n",
    "plt.ylabel('True Positive Rate')\n",
    "plt.title('Receiver operating characteristic')\n",
    "plt.legend(loc=\"lower right\")\n",
    "plt.show()\n",
    "dif.savefig('ROC_dif.png')\n",
    "plt.close()"
   ]
  },
  {
   "cell_type": "markdown",
   "id": "1b443749",
   "metadata": {},
   "source": [
    "## F1 Score"
   ]
  },
  {
   "cell_type": "code",
   "execution_count": 6,
   "id": "f9a59389",
   "metadata": {},
   "outputs": [],
   "source": [
    "from sklearn.metrics import confusion_matrix\n",
    "import pandas as pd\n",
    "import seaborn as sn"
   ]
  },
  {
   "cell_type": "code",
   "execution_count": null,
   "id": "9d1ae4f2",
   "metadata": {},
   "outputs": [],
   "source": [
    "# Both groundtruh, prediction lists are binary list like [0,1,0,1,0,0]\n",
    "con_mat = confusion_matrix(ground_truth,prediction, labels=[0, 1])\n",
    "con_df = pd.DataFrame(con_mat, index=['OK', 'NG'], columns=['OK', 'NG'])\n",
    "\n",
    "sn.heatmap(con_df, annot=True)"
   ]
  },
  {
   "cell_type": "code",
   "execution_count": null,
   "id": "0a692f0e",
   "metadata": {},
   "outputs": [],
   "source": []
  },
  {
   "cell_type": "code",
   "execution_count": null,
   "id": "ff03e324",
   "metadata": {},
   "outputs": [],
   "source": []
  },
  {
   "cell_type": "code",
   "execution_count": null,
   "id": "8b158a78",
   "metadata": {},
   "outputs": [],
   "source": []
  }
 ],
 "metadata": {
  "kernelspec": {
   "display_name": "Python 3 (ipykernel)",
   "language": "python",
   "name": "python3"
  },
  "language_info": {
   "codemirror_mode": {
    "name": "ipython",
    "version": 3
   },
   "file_extension": ".py",
   "mimetype": "text/x-python",
   "name": "python",
   "nbconvert_exporter": "python",
   "pygments_lexer": "ipython3",
   "version": "3.7.5"
  }
 },
 "nbformat": 4,
 "nbformat_minor": 5
}
